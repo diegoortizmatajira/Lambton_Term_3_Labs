{
 "cells": [
  {
   "cell_type": "code",
   "execution_count": 83,
   "id": "774ffafb-1b66-4e87-9fed-6c3eb0a0124f",
   "metadata": {},
   "outputs": [],
   "source": [
    "import numpy as np\n",
    "import pandas as pd"
   ]
  },
  {
   "cell_type": "code",
   "execution_count": 6,
   "id": "90f215ed-7550-4b9b-89d9-5dc278469357",
   "metadata": {},
   "outputs": [],
   "source": [
    "PLATES = ['Beer', 'Whiskey', 'Vodka', 'Tequila', 'Gin', 'Rum' ]\n",
    "\n",
    "user_likes = np.array([\n",
    "    [5,0,3,5,0,1],\n",
    "    [0,5,5,0,0,0],\n",
    "    [0,0,0,0,0,5],\n",
    "    [3,2,2,0,5,1],\n",
    "    [3,1,0,0,0,0],\n",
    "]) "
   ]
  },
  {
   "cell_type": "code",
   "execution_count": 8,
   "id": "b98c5267-a054-4bac-9613-e442378c3d1e",
   "metadata": {},
   "outputs": [
    {
     "data": {
      "text/plain": [
       "(5, 6)"
      ]
     },
     "execution_count": 8,
     "metadata": {},
     "output_type": "execute_result"
    }
   ],
   "source": [
    "user_likes.shape"
   ]
  },
  {
   "cell_type": "code",
   "execution_count": 96,
   "id": "7c95a8fa-b24a-4d74-a1ac-c2728d680df7",
   "metadata": {},
   "outputs": [],
   "source": [
    "FEATURES = 15\n",
    "\n",
    "def build_initial_factors(m):\n",
    "    rows, columns = m.shape\n",
    "    f1 = np.random.rand(rows, FEATURES)\n",
    "    f2 = np.random.rand(columns, FEATURES)\n",
    "    return f1,f2\n",
    "\n",
    "def factorize(m, f1, f2, steps = 10000, alpha=0.02, beta=0.02, error_trigger=0.001):\n",
    "    f2 = f2.T\n",
    "    rows, columns = m.shape \n",
    "    last_error = 0\n",
    "    for step in range(steps):\n",
    "        for i in range(rows):\n",
    "            for j in range(columns):\n",
    "                if m[i][j] > 0:\n",
    "                    eij = m[i][j] - np.dot(f1[i,:],f2[:,j])\n",
    "                    for k in range(FEATURES):\n",
    "                        f1[i][k] = f1[i][k] + alpha * (2 * eij * f2[k][j] - beta * f1[i][k])\n",
    "                        f2[k][j] = f2[k][j] + alpha * (2 * eij * f1[i][k] - beta * f2[k][j])\n",
    "        e = 0\n",
    "        for i in range(rows):\n",
    "            for j in range(columns):\n",
    "                if m[i][j] > 0:\n",
    "                    e = e + pow(m[i][j] - np.dot(f1[i,:],f2[:,j]), 2)\n",
    "                    for k in range(FEATURES):\n",
    "                        e = e + (beta/2) * (pow(f1[i][k],2) + pow(f2[k][j],2))\n",
    "        last_error = e\n",
    "        if e < error_trigger:\n",
    "            print(f'>> Achieved an error less than {error_trigger} in {step} calculation steps')\n",
    "            break\n",
    "    print(f'FINISH: Error = {last_error}')\n",
    "    return f1, f2.T \n",
    "    \n",
    "\n",
    "def extrapolate(m):\n",
    "    f1,f2 = build_initial_factors(m)\n",
    "    f1n, f2n = factorize(m, f1, f2)\n",
    "    return np.round(np.matmul(f1n, f2n.T), 2)"
   ]
  },
  {
   "cell_type": "code",
   "execution_count": 97,
   "id": "d84eb040-86f7-4381-878b-a8d545ab7d4e",
   "metadata": {},
   "outputs": [
    {
     "name": "stdout",
     "output_type": "stream",
     "text": [
      "FINISH: Error = 1.1807111570311628\n"
     ]
    }
   ],
   "source": [
    "extrapolated_user_likes = extrapolate(user_likes)"
   ]
  },
  {
   "cell_type": "code",
   "execution_count": 100,
   "id": "9555fe79-ab14-4982-aedb-2ae1d450113c",
   "metadata": {},
   "outputs": [],
   "source": [
    "likes_df = pd.DataFrame(user_likes, columns = PLATES)\n",
    "extrapolated_likes_df = pd.DataFrame(extrapolated_user_likes, columns = PLATES)"
   ]
  },
  {
   "cell_type": "code",
   "execution_count": 101,
   "id": "bd657cd8-5e3b-4511-9ba0-fe15d5576991",
   "metadata": {},
   "outputs": [
    {
     "data": {
      "text/html": [
       "<div>\n",
       "<style scoped>\n",
       "    .dataframe tbody tr th:only-of-type {\n",
       "        vertical-align: middle;\n",
       "    }\n",
       "\n",
       "    .dataframe tbody tr th {\n",
       "        vertical-align: top;\n",
       "    }\n",
       "\n",
       "    .dataframe thead th {\n",
       "        text-align: right;\n",
       "    }\n",
       "</style>\n",
       "<table border=\"1\" class=\"dataframe\">\n",
       "  <thead>\n",
       "    <tr style=\"text-align: right;\">\n",
       "      <th></th>\n",
       "      <th>Beer</th>\n",
       "      <th>Whiskey</th>\n",
       "      <th>Vodka</th>\n",
       "      <th>Tequila</th>\n",
       "      <th>Gin</th>\n",
       "      <th>Rum</th>\n",
       "    </tr>\n",
       "  </thead>\n",
       "  <tbody>\n",
       "    <tr>\n",
       "      <th>0</th>\n",
       "      <td>5</td>\n",
       "      <td>0</td>\n",
       "      <td>3</td>\n",
       "      <td>5</td>\n",
       "      <td>0</td>\n",
       "      <td>1</td>\n",
       "    </tr>\n",
       "    <tr>\n",
       "      <th>1</th>\n",
       "      <td>0</td>\n",
       "      <td>5</td>\n",
       "      <td>5</td>\n",
       "      <td>0</td>\n",
       "      <td>0</td>\n",
       "      <td>0</td>\n",
       "    </tr>\n",
       "    <tr>\n",
       "      <th>2</th>\n",
       "      <td>0</td>\n",
       "      <td>0</td>\n",
       "      <td>0</td>\n",
       "      <td>0</td>\n",
       "      <td>0</td>\n",
       "      <td>5</td>\n",
       "    </tr>\n",
       "    <tr>\n",
       "      <th>3</th>\n",
       "      <td>3</td>\n",
       "      <td>2</td>\n",
       "      <td>2</td>\n",
       "      <td>0</td>\n",
       "      <td>5</td>\n",
       "      <td>1</td>\n",
       "    </tr>\n",
       "    <tr>\n",
       "      <th>4</th>\n",
       "      <td>3</td>\n",
       "      <td>1</td>\n",
       "      <td>0</td>\n",
       "      <td>0</td>\n",
       "      <td>0</td>\n",
       "      <td>0</td>\n",
       "    </tr>\n",
       "  </tbody>\n",
       "</table>\n",
       "</div>"
      ],
      "text/plain": [
       "   Beer  Whiskey  Vodka  Tequila  Gin  Rum\n",
       "0     5        0      3        5    0    1\n",
       "1     0        5      5        0    0    0\n",
       "2     0        0      0        0    0    5\n",
       "3     3        2      2        0    5    1\n",
       "4     3        1      0        0    0    0"
      ]
     },
     "execution_count": 101,
     "metadata": {},
     "output_type": "execute_result"
    }
   ],
   "source": [
    "likes_df"
   ]
  },
  {
   "cell_type": "code",
   "execution_count": 102,
   "id": "ab28d9c6-1890-41bb-b2df-710efeb09bf5",
   "metadata": {},
   "outputs": [
    {
     "data": {
      "text/html": [
       "<div>\n",
       "<style scoped>\n",
       "    .dataframe tbody tr th:only-of-type {\n",
       "        vertical-align: middle;\n",
       "    }\n",
       "\n",
       "    .dataframe tbody tr th {\n",
       "        vertical-align: top;\n",
       "    }\n",
       "\n",
       "    .dataframe thead th {\n",
       "        text-align: right;\n",
       "    }\n",
       "</style>\n",
       "<table border=\"1\" class=\"dataframe\">\n",
       "  <thead>\n",
       "    <tr style=\"text-align: right;\">\n",
       "      <th></th>\n",
       "      <th>Beer</th>\n",
       "      <th>Whiskey</th>\n",
       "      <th>Vodka</th>\n",
       "      <th>Tequila</th>\n",
       "      <th>Gin</th>\n",
       "      <th>Rum</th>\n",
       "    </tr>\n",
       "  </thead>\n",
       "  <tbody>\n",
       "    <tr>\n",
       "      <th>0</th>\n",
       "      <td>4.98</td>\n",
       "      <td>2.66</td>\n",
       "      <td>2.99</td>\n",
       "      <td>4.99</td>\n",
       "      <td>6.02</td>\n",
       "      <td>1.00</td>\n",
       "    </tr>\n",
       "    <tr>\n",
       "      <th>1</th>\n",
       "      <td>4.86</td>\n",
       "      <td>4.98</td>\n",
       "      <td>4.98</td>\n",
       "      <td>5.26</td>\n",
       "      <td>7.39</td>\n",
       "      <td>1.96</td>\n",
       "    </tr>\n",
       "    <tr>\n",
       "      <th>2</th>\n",
       "      <td>1.85</td>\n",
       "      <td>2.11</td>\n",
       "      <td>1.96</td>\n",
       "      <td>2.00</td>\n",
       "      <td>3.86</td>\n",
       "      <td>4.98</td>\n",
       "    </tr>\n",
       "    <tr>\n",
       "      <th>3</th>\n",
       "      <td>3.00</td>\n",
       "      <td>1.99</td>\n",
       "      <td>2.00</td>\n",
       "      <td>3.01</td>\n",
       "      <td>4.98</td>\n",
       "      <td>1.00</td>\n",
       "    </tr>\n",
       "    <tr>\n",
       "      <th>4</th>\n",
       "      <td>2.99</td>\n",
       "      <td>1.00</td>\n",
       "      <td>1.29</td>\n",
       "      <td>2.90</td>\n",
       "      <td>3.23</td>\n",
       "      <td>0.38</td>\n",
       "    </tr>\n",
       "  </tbody>\n",
       "</table>\n",
       "</div>"
      ],
      "text/plain": [
       "   Beer  Whiskey  Vodka  Tequila   Gin   Rum\n",
       "0  4.98     2.66   2.99     4.99  6.02  1.00\n",
       "1  4.86     4.98   4.98     5.26  7.39  1.96\n",
       "2  1.85     2.11   1.96     2.00  3.86  4.98\n",
       "3  3.00     1.99   2.00     3.01  4.98  1.00\n",
       "4  2.99     1.00   1.29     2.90  3.23  0.38"
      ]
     },
     "execution_count": 102,
     "metadata": {},
     "output_type": "execute_result"
    }
   ],
   "source": [
    "extrapolated_likes_df"
   ]
  },
  {
   "cell_type": "code",
   "execution_count": null,
   "id": "9e76d03a-f922-4aec-8caf-0690f786cdb1",
   "metadata": {},
   "outputs": [],
   "source": []
  }
 ],
 "metadata": {
  "kernelspec": {
   "display_name": "Python 3 (ipykernel)",
   "language": "python",
   "name": "python3"
  },
  "language_info": {
   "codemirror_mode": {
    "name": "ipython",
    "version": 3
   },
   "file_extension": ".py",
   "mimetype": "text/x-python",
   "name": "python",
   "nbconvert_exporter": "python",
   "pygments_lexer": "ipython3",
   "version": "3.10.5"
  }
 },
 "nbformat": 4,
 "nbformat_minor": 5
}
