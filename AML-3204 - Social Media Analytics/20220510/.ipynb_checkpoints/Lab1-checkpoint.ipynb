{
 "cells": [
  {
   "cell_type": "markdown",
   "id": "b5f50a5d-a2fc-478f-a092-a9e3f97b6f6d",
   "metadata": {},
   "source": [
    "Team Members\n",
    "- Julio Sanchez\n",
    "- Henry Ramos\n",
    "- Diego Ortiz"
   ]
  },
  {
   "cell_type": "code",
   "execution_count": 1,
   "id": "bc526478-df09-4860-bab2-50a6d04e27dc",
   "metadata": {},
   "outputs": [],
   "source": [
    "import pandas as pd"
   ]
  },
  {
   "cell_type": "code",
   "execution_count": 2,
   "id": "adcc9ba8-caee-4cd1-9a1d-383bcd4ee280",
   "metadata": {},
   "outputs": [],
   "source": [
    "df = pd.read_csv(\"hw.txt\")"
   ]
  },
  {
   "cell_type": "code",
   "execution_count": 3,
   "id": "6361d375-784b-4cd1-802b-167abebf990a",
   "metadata": {},
   "outputs": [],
   "source": [
    "l = len(df) // 2"
   ]
  },
  {
   "cell_type": "code",
   "execution_count": 4,
   "id": "8be49cf8-8c52-417c-badc-0770484cf5d4",
   "metadata": {},
   "outputs": [],
   "source": [
    "pairs = {'height':[], 'weight':[]}"
   ]
  },
  {
   "cell_type": "code",
   "execution_count": 5,
   "id": "edbf9602-6ff0-4ecc-9b1a-dc71890f3ff7",
   "metadata": {},
   "outputs": [],
   "source": [
    "for i in range(l):\n",
    "    pairs['height'].append(df.iloc[i*2,0])\n",
    "    pairs['weight'].append(df.iloc[i*2+1,0])"
   ]
  },
  {
   "cell_type": "code",
   "execution_count": 6,
   "id": "8e9672f3-6e19-4318-a103-f78f68253f94",
   "metadata": {},
   "outputs": [
    {
     "data": {
      "text/html": [
       "<div>\n",
       "<style scoped>\n",
       "    .dataframe tbody tr th:only-of-type {\n",
       "        vertical-align: middle;\n",
       "    }\n",
       "\n",
       "    .dataframe tbody tr th {\n",
       "        vertical-align: top;\n",
       "    }\n",
       "\n",
       "    .dataframe thead th {\n",
       "        text-align: right;\n",
       "    }\n",
       "</style>\n",
       "<table border=\"1\" class=\"dataframe\">\n",
       "  <thead>\n",
       "    <tr style=\"text-align: right;\">\n",
       "      <th></th>\n",
       "      <th>height</th>\n",
       "      <th>weight</th>\n",
       "    </tr>\n",
       "  </thead>\n",
       "  <tbody>\n",
       "    <tr>\n",
       "      <th>0</th>\n",
       "      <td>180</td>\n",
       "      <td>170</td>\n",
       "    </tr>\n",
       "    <tr>\n",
       "      <th>1</th>\n",
       "      <td>200</td>\n",
       "      <td>170</td>\n",
       "    </tr>\n",
       "    <tr>\n",
       "      <th>2</th>\n",
       "      <td>180</td>\n",
       "      <td>140</td>\n",
       "    </tr>\n",
       "    <tr>\n",
       "      <th>3</th>\n",
       "      <td>190</td>\n",
       "      <td>180</td>\n",
       "    </tr>\n",
       "    <tr>\n",
       "      <th>4</th>\n",
       "      <td>130</td>\n",
       "      <td>150</td>\n",
       "    </tr>\n",
       "    <tr>\n",
       "      <th>5</th>\n",
       "      <td>220</td>\n",
       "      <td>185</td>\n",
       "    </tr>\n",
       "    <tr>\n",
       "      <th>6</th>\n",
       "      <td>110</td>\n",
       "      <td>165</td>\n",
       "    </tr>\n",
       "    <tr>\n",
       "      <th>7</th>\n",
       "      <td>300</td>\n",
       "      <td>150</td>\n",
       "    </tr>\n",
       "    <tr>\n",
       "      <th>8</th>\n",
       "      <td>86</td>\n",
       "      <td>140</td>\n",
       "    </tr>\n",
       "    <tr>\n",
       "      <th>9</th>\n",
       "      <td>300</td>\n",
       "      <td>155</td>\n",
       "    </tr>\n",
       "    <tr>\n",
       "      <th>10</th>\n",
       "      <td>150</td>\n",
       "      <td>182</td>\n",
       "    </tr>\n",
       "    <tr>\n",
       "      <th>11</th>\n",
       "      <td>178</td>\n",
       "      <td>170</td>\n",
       "    </tr>\n",
       "  </tbody>\n",
       "</table>\n",
       "</div>"
      ],
      "text/plain": [
       "    height  weight\n",
       "0      180     170\n",
       "1      200     170\n",
       "2      180     140\n",
       "3      190     180\n",
       "4      130     150\n",
       "5      220     185\n",
       "6      110     165\n",
       "7      300     150\n",
       "8       86     140\n",
       "9      300     155\n",
       "10     150     182\n",
       "11     178     170"
      ]
     },
     "execution_count": 6,
     "metadata": {},
     "output_type": "execute_result"
    }
   ],
   "source": [
    "data = pd.DataFrame(data = pairs)\n",
    "data"
   ]
  },
  {
   "cell_type": "code",
   "execution_count": 7,
   "id": "34e25a99-8b5c-4da0-97db-501daa70d0e0",
   "metadata": {},
   "outputs": [],
   "source": [
    "data['H'] = data.height / 100\n",
    "data['W'] = data.weight / 2.2\n",
    "data['BMI'] = data.W / (data.H**2)"
   ]
  },
  {
   "cell_type": "code",
   "execution_count": 8,
   "id": "de6929e2-41bf-40e3-b1d1-1e01fe05c933",
   "metadata": {},
   "outputs": [],
   "source": [
    "def Filter(title, minimum, maximum):\n",
    "    filtered = data[(data.BMI > minimum)&(data.BMI < maximum)]\n",
    "    print(title)\n",
    "    for i, person in filtered.iterrows():\n",
    "        print(f\"Person {i}: {person.BMI}\")\n",
    "    print(f'Group Size: {len(filtered)}')\n",
    "    print(f'Average BMI for this group: {filtered[\"BMI\"].mean()}\\n')"
   ]
  },
  {
   "cell_type": "code",
   "execution_count": 9,
   "id": "426779ba-77a3-4805-932b-af940df444fa",
   "metadata": {},
   "outputs": [
    {
     "name": "stdout",
     "output_type": "stream",
     "text": [
      "UnderWeight\n",
      "Person 5: 17.374154770848982\n",
      "Person 7: 7.575757575757574\n",
      "Person 9: 7.828282828282828\n",
      "Group Size: 3\n",
      "Average BMI for this group: 10.92606505829646\n",
      "\n",
      "Normal weight\n",
      "Person 0: 23.849607182940513\n",
      "Person 1: 19.318181818181817\n",
      "Person 2: 19.640852974186306\n",
      "Person 3: 22.664316293125157\n",
      "Person 11: 24.388564345640468\n",
      "Group Size: 5\n",
      "Average BMI for this group: 21.972304522814852\n",
      "\n",
      "Overweight\n",
      "Group Size: 0\n",
      "Average BMI for this group: nan\n",
      "\n",
      "Obesity\n",
      "Person 4: 40.344271113501875\n",
      "Person 6: 61.983471074380155\n",
      "Person 8: 86.04159496533754\n",
      "Person 10: 36.76767676767676\n",
      "Group Size: 4\n",
      "Average BMI for this group: 56.28425348022408\n",
      "\n"
     ]
    }
   ],
   "source": [
    "Filter('UnderWeight',0 , 18)\n",
    "Filter('Normal weight', 18.5,24.9)\n",
    "Filter('Overweight', 25,29.9)\n",
    "Filter('Obesity', 30, 999)"
   ]
  },
  {
   "cell_type": "code",
   "execution_count": null,
   "id": "ae3a779a-9603-4f22-a1f6-72564ebba14a",
   "metadata": {},
   "outputs": [],
   "source": []
  }
 ],
 "metadata": {
  "kernelspec": {
   "display_name": "Python 3 (ipykernel)",
   "language": "python",
   "name": "python3"
  },
  "language_info": {
   "codemirror_mode": {
    "name": "ipython",
    "version": 3
   },
   "file_extension": ".py",
   "mimetype": "text/x-python",
   "name": "python",
   "nbconvert_exporter": "python",
   "pygments_lexer": "ipython3",
   "version": "3.10.4"
  }
 },
 "nbformat": 4,
 "nbformat_minor": 5
}
