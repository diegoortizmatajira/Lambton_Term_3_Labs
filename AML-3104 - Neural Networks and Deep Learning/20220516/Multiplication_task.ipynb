{
 "cells": [
  {
   "cell_type": "code",
   "execution_count": 5,
   "id": "c3bcf095-5631-435a-a0ae-3821e6840090",
   "metadata": {},
   "outputs": [],
   "source": [
    "import numpy as np"
   ]
  },
  {
   "cell_type": "code",
   "execution_count": 24,
   "id": "63b30f4a-8a69-42d6-a5db-2bfce9d1b698",
   "metadata": {
    "tags": []
   },
   "outputs": [],
   "source": [
    "def multiply_matrices(m1,m2):\n",
    "    s1 = m1.shape\n",
    "    s2 = m2.shape\n",
    "    # Sizes must match m1 columns with m2 rows\n",
    "    if s1[1] != s2[0]:\n",
    "        print('The matrix sizes do not match')\n",
    "        return None\n",
    "    result = []\n",
    "    # iterates on m1 rows\n",
    "    for i in range (s1[0]):\n",
    "        row = []\n",
    "        # iterates on m2 columns\n",
    "        for j in range (s2[1]):\n",
    "            sum_value = 0\n",
    "            # iterates on m1 columns and m2 rows to calculate the sum of their products\n",
    "            for k in range (s1[1]):\n",
    "                sum_value += m1[i, k] * m2[k, j]\n",
    "            row.append(sum_value)\n",
    "        result.append(row)\n",
    "    return np.array(result)"
   ]
  },
  {
   "cell_type": "code",
   "execution_count": 30,
   "id": "d274bf98-d026-4ad2-9ba4-a87a85147102",
   "metadata": {},
   "outputs": [],
   "source": [
    "a = np.array([[1, 2, 3], \n",
    "     [4, 5, 6]])\n",
    "b = np.array([[10, 11], \n",
    "              [20, 21], \n",
    "              [30, 31]])\n",
    "\n",
    "c = np.array([[1, 4], [6, 8]])"
   ]
  },
  {
   "cell_type": "markdown",
   "id": "23763640-0199-43ca-8115-01520135a635",
   "metadata": {},
   "source": [
    "# test Associative property of multiplication"
   ]
  },
  {
   "cell_type": "code",
   "execution_count": 31,
   "id": "746b1714-592e-419d-bcd3-9fbad3cd354e",
   "metadata": {},
   "outputs": [],
   "source": [
    "ab_c = multiply_matrices(multiply_matrices(a, b), c)\n",
    "a_bc = multiply_matrices(a, multiply_matrices(b, c))"
   ]
  },
  {
   "cell_type": "code",
   "execution_count": 34,
   "id": "76460b35-ac91-4930-99eb-d799fe03b39c",
   "metadata": {},
   "outputs": [
    {
     "data": {
      "text/plain": [
       "array([[1016, 1728],\n",
       "       [2330, 3960]])"
      ]
     },
     "execution_count": 34,
     "metadata": {},
     "output_type": "execute_result"
    }
   ],
   "source": [
    "ab_c"
   ]
  },
  {
   "cell_type": "code",
   "execution_count": 35,
   "id": "6b47d767-ce95-4042-80f4-8e6818c9a1a7",
   "metadata": {},
   "outputs": [
    {
     "data": {
      "text/plain": [
       "array([[1016, 1728],\n",
       "       [2330, 3960]])"
      ]
     },
     "execution_count": 35,
     "metadata": {},
     "output_type": "execute_result"
    }
   ],
   "source": [
    "a_bc"
   ]
  },
  {
   "cell_type": "code",
   "execution_count": 29,
   "id": "23fe58e8-e8fd-4a0b-87e3-0f175681cd93",
   "metadata": {},
   "outputs": [
    {
     "data": {
      "text/plain": [
       "array([[140, 146],\n",
       "       [320, 335]])"
      ]
     },
     "execution_count": 29,
     "metadata": {},
     "output_type": "execute_result"
    }
   ],
   "source": [
    "np.matmul(a,b)"
   ]
  },
  {
   "cell_type": "markdown",
   "id": "1b371b38-cd04-4782-b4a6-91c75d5682ad",
   "metadata": {},
   "source": [
    "# Test distributive property of multiplication"
   ]
  },
  {
   "cell_type": "code",
   "execution_count": 37,
   "id": "fca492d6-c969-4b62-a2e3-a353f37d0254",
   "metadata": {},
   "outputs": [],
   "source": [
    "a = np.array([[10, 11], \n",
    "              [20, 21], \n",
    "              [30, 31]])\n",
    "b = np.matrix([[1,2],\n",
    "               [2,3]])\n",
    "c = np.matrix([[3,4],\n",
    "               [4,5]])\n"
   ]
  },
  {
   "cell_type": "code",
   "execution_count": 38,
   "id": "70a64f37-285f-4ec6-95fc-c75d6bba10fa",
   "metadata": {},
   "outputs": [
    {
     "data": {
      "text/plain": [
       "array([[106, 148],\n",
       "       [206, 288],\n",
       "       [306, 428]])"
      ]
     },
     "execution_count": 38,
     "metadata": {},
     "output_type": "execute_result"
    }
   ],
   "source": [
    "result1 = multiply_matrices(a, b+c)\n",
    "result1"
   ]
  },
  {
   "cell_type": "code",
   "execution_count": 40,
   "id": "60357e7e-ea62-4928-9816-12b1b36ec259",
   "metadata": {},
   "outputs": [
    {
     "data": {
      "text/plain": [
       "array([[106, 148],\n",
       "       [206, 288],\n",
       "       [306, 428]])"
      ]
     },
     "execution_count": 40,
     "metadata": {},
     "output_type": "execute_result"
    }
   ],
   "source": [
    "result2 = multiply_matrices(a, b) + multiply_matrices(a, c)\n",
    "result2"
   ]
  },
  {
   "cell_type": "code",
   "execution_count": null,
   "id": "920313e7-5f8b-4436-b3b1-9b05ac9d0e4b",
   "metadata": {},
   "outputs": [],
   "source": []
  }
 ],
 "metadata": {
  "kernelspec": {
   "display_name": "Python 3 (ipykernel)",
   "language": "python",
   "name": "python3"
  },
  "language_info": {
   "codemirror_mode": {
    "name": "ipython",
    "version": 3
   },
   "file_extension": ".py",
   "mimetype": "text/x-python",
   "name": "python",
   "nbconvert_exporter": "python",
   "pygments_lexer": "ipython3",
   "version": "3.10.4"
  }
 },
 "nbformat": 4,
 "nbformat_minor": 5
}
